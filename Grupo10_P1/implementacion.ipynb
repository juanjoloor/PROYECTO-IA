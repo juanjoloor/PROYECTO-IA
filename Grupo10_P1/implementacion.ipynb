{
  "nbformat": 4,
  "nbformat_minor": 0,
  "metadata": {
    "colab": {
      "name": "implementacion.ipynb",
      "provenance": []
    },
    "kernelspec": {
      "name": "python3",
      "display_name": "Python 3"
    },
    "language_info": {
      "name": "python"
    }
  },
  "cells": [
    {
      "cell_type": "markdown",
      "source": [
        "Importación de librerias utiles"
      ],
      "metadata": {
        "id": "4Reqc4z7J1QB"
      }
    },
    {
      "cell_type": "code",
      "source": [
        "import pandas as pd\n",
        "from sklearn.feature_extraction import _stop_words\n",
        "from sklearn.linear_model import LogisticRegression\n",
        "from sklearn.model_selection import train_test_split\n",
        "from sklearn.feature_extraction.text import CountVectorizer\n",
        "from sklearn.metrics import classification_report"
      ],
      "metadata": {
        "id": "vfY9YyfqJ4Qm"
      },
      "execution_count": 36,
      "outputs": []
    },
    {
      "cell_type": "markdown",
      "source": [
        "Definición del clasificador de regresión logistica"
      ],
      "metadata": {
        "id": "8UAEtN95KH7z"
      }
    },
    {
      "cell_type": "code",
      "source": [
        "Clasificador=LogisticRegression(multi_class='multinomial',  max_iter=10)\n"
      ],
      "metadata": {
        "id": "SiI3gwRA_ecj"
      },
      "execution_count": 50,
      "outputs": []
    },
    {
      "cell_type": "markdown",
      "source": [
        "Proceso de lectura y filtrado del dataset"
      ],
      "metadata": {
        "id": "OmoF-Kqz_w97"
      }
    },
    {
      "cell_type": "code",
      "source": [
        "#STOP WORDS DE SKLEARN\n",
        "stop_words=_stop_words.ENGLISH_STOP_WORDS\n",
        "#LECTURA DEL DATASET\n",
        "rows_data = pd.read_csv(\"dataset_final.csv\", encoding=\"latin-1\")\n",
        "#STOP WORDS PERSONALIZADO\n",
        "rows_stop_words= pd.read_csv(\"stopwords\", sep='\\n', header=None)\n",
        "#OBTENEMOS EL VECTOR DE COMENTARIOS\n",
        "tweets = rows_data['fullText'].values\n",
        "#OBTENEMOS EL VECTOR DE LAS POLARIDADES\n",
        "polaridad = rows_data['polaridad'].values\n",
        "#UNIMOS LAS STOP WORDS DE SKLEARN CON LAS PERSONAIZADAS\n",
        "stop_words=stop_words.union(list(rows_stop_words[0]))"
      ],
      "metadata": {
        "id": "kN1TuIbq_zuS"
      },
      "execution_count": 38,
      "outputs": []
    },
    {
      "cell_type": "markdown",
      "source": [
        "Dividimos la data de entrenamiento y la que será usada para test"
      ],
      "metadata": {
        "id": "rYoMkYXMAXJD"
      }
    },
    {
      "cell_type": "code",
      "source": [
        "Tweet_train, Tweet_test, polaridad_train, polaridad_test = train_test_split(tweets, polaridad, test_size=0.1, random_state=4)"
      ],
      "metadata": {
        "id": "JWq1_Y0RAYB5"
      },
      "execution_count": 39,
      "outputs": []
    },
    {
      "cell_type": "markdown",
      "source": [
        "Se crea el tokenizador que recibirá el vector de comentarios y convertirá cada comentario en tokens compuesto de 1 o 2 palabras por el hiper-parametro ngram_range=(1,2)"
      ],
      "metadata": {
        "id": "WFqzw1OWAoAa"
      }
    },
    {
      "cell_type": "code",
      "source": [
        "vectorizer = CountVectorizer(analyzer='word', encoding=\"latin-1\", lowercase=True, token_pattern=r'\\b\\w+\\b', max_df=0.9, min_df=0.01, ngram_range=(1,2), stop_words=stop_words)"
      ],
      "metadata": {
        "id": "GYndGVD2AoNi"
      },
      "execution_count": 40,
      "outputs": []
    },
    {
      "cell_type": "markdown",
      "source": [
        "Se realiza la transformación binaria para posteriormente ajustar el modelo con el vector de comentarios y el vector de polaridades."
      ],
      "metadata": {
        "id": "JAxgGQSaBNIj"
      }
    },
    {
      "cell_type": "code",
      "source": [
        "vectorizer.fit(Tweet_train)\n",
        "v_train = vectorizer.transform(Tweet_train)\n",
        "v_test = vectorizer.transform(Tweet_test)\n",
        "\n",
        "Clasificador.fit(v_train, polaridad_train)\n",
        "eficiencia = Clasificador.score(v_test, polaridad_test)\n",
        "\n",
        "#ES POSIBLE QUE SAGA UN WARNING POR EL LIMITE DE ITERACIONES PERMITIDO QUE DEBERIAS SER MAX 100,\n",
        "#PERO POR ALGUNA RAZÓN ESTA VERSIÓN DEL SKLEARN ARROJA UN WARNING\n",
        "\n",
        "#IGNORARL EL WARNING Y SI SEGUIR AL PASO POSTERIOR"
      ],
      "metadata": {
        "colab": {
          "base_uri": "https://localhost:8080/"
        },
        "id": "6CD1eu1MBNdh",
        "outputId": "f373f72a-0f2b-454c-991f-d928289b1ab1"
      },
      "execution_count": 51,
      "outputs": [
        {
          "output_type": "stream",
          "name": "stderr",
          "text": [
            "/usr/local/lib/python3.7/dist-packages/sklearn/linear_model/_logistic.py:818: ConvergenceWarning: lbfgs failed to converge (status=1):\n",
            "STOP: TOTAL NO. of ITERATIONS REACHED LIMIT.\n",
            "\n",
            "Increase the number of iterations (max_iter) or scale the data as shown in:\n",
            "    https://scikit-learn.org/stable/modules/preprocessing.html\n",
            "Please also refer to the documentation for alternative solver options:\n",
            "    https://scikit-learn.org/stable/modules/linear_model.html#logistic-regression\n",
            "  extra_warning_msg=_LOGISTIC_SOLVER_CONVERGENCE_MSG,\n"
          ]
        }
      ]
    },
    {
      "cell_type": "markdown",
      "source": [
        "Se hace una predicción y se imprime un reporte de eficiencia del modelo entrenado."
      ],
      "metadata": {
        "id": "tikUWQFsCKJ2"
      }
    },
    {
      "cell_type": "code",
      "source": [
        "resultado = Clasificador.predict(v_test)\n",
        "print(classification_report(polaridad_test,resultado ))"
      ],
      "metadata": {
        "colab": {
          "base_uri": "https://localhost:8080/"
        },
        "id": "Kv_PCs6KCKkS",
        "outputId": "9f9a8dc8-b84f-4b72-eb40-31a8655fb21b"
      },
      "execution_count": 42,
      "outputs": [
        {
          "output_type": "stream",
          "name": "stdout",
          "text": [
            "              precision    recall  f1-score   support\n",
            "\n",
            "          -1       0.75      0.75      0.75       115\n",
            "           0       0.73      0.76      0.74       113\n",
            "           1       0.86      0.81      0.83        78\n",
            "\n",
            "    accuracy                           0.77       306\n",
            "   macro avg       0.78      0.77      0.78       306\n",
            "weighted avg       0.77      0.77      0.77       306\n",
            "\n"
          ]
        }
      ]
    },
    {
      "cell_type": "markdown",
      "source": [
        "Ejemplos de comentarios analizados"
      ],
      "metadata": {
        "id": "zo1UYy6XCYii"
      }
    },
    {
      "cell_type": "code",
      "source": [
        "tweet_negativo = 'lasso corrupto'\n",
        "tweet_v = vectorizer.transform([tweet_negativo])\n",
        "respuesta = Clasificador.predict(tweet_v);\n",
        "print('TWEET NEGATIVO: ', tweet_negativo)\n",
        "print('POLARIDAD: ', respuesta[0], '\\n')\n",
        "\n",
        "tweet_neutro = 'lasso no hiciste nada'\n",
        "tweet_v = vectorizer.transform([tweet_neutro])\n",
        "respuesta = Clasificador.predict(tweet_v);\n",
        "print('TWEET NEUTRO: ', tweet_neutro)\n",
        "print('POLARIDAD: ', respuesta[0], '\\n')\n",
        "\n",
        "tweet_positivo = 'lasso gracias por la reactivacion economica'\n",
        "tweet_v = vectorizer.transform([tweet_positivo])\n",
        "respuesta = Clasificador.predict(tweet_v);\n",
        "print('TWEET NEGATIVO: ', tweet_positivo)\n",
        "print('POLARIDAD: ', respuesta[0], '\\n')\n"
      ],
      "metadata": {
        "colab": {
          "base_uri": "https://localhost:8080/"
        },
        "id": "KzLbAB9LK1tt",
        "outputId": "42e5762c-8c01-4454-f558-a3d662a70ff5"
      },
      "execution_count": 44,
      "outputs": [
        {
          "output_type": "stream",
          "name": "stdout",
          "text": [
            "TWEET NEGATIVO:  lasso corrupto\n",
            "POLARIDAD:  -1 \n",
            "\n",
            "TWEET NEUTRO:  lasso no hiciste nada\n",
            "POLARIDAD:  0 \n",
            "\n",
            "TWEET NEGATIVO:  lasso gracias por la reactivacion economica\n",
            "POLARIDAD:  1 \n",
            "\n"
          ]
        }
      ]
    }
  ]
}